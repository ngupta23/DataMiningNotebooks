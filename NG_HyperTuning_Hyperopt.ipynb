{
 "cells": [
  {
   "cell_type": "markdown",
   "metadata": {},
   "source": [
    "## References: \n",
    "    (1) https://blog.goodaudience.com/on-using-hyperopt-advanced-machine-learning-a2dde2ccece7\n",
    "    (2) https://medium.com/district-data-labs/parameter-tuning-with-hyperopt-faa86acdfdce \n",
    "        "
   ]
  },
  {
   "cell_type": "code",
   "execution_count": 20,
   "metadata": {},
   "outputs": [],
   "source": [
    "from hyperopt import hp, tpe, fmin, STATUS_OK, Trials\n",
    "# we import tpe algorithm \n",
    "# fmin function which helps us minimize the equation\n",
    "# hp which creates the search space"
   ]
  },
  {
   "cell_type": "code",
   "execution_count": 26,
   "metadata": {},
   "outputs": [],
   "source": [
    "# creating the objective function\n",
    "def function(args):\n",
    "    x,y = args\n",
    "    f = x**2 - y**2\n",
    "    return f           # returns a numerical value\n",
    "\n",
    "\n",
    "# defining the search space, we'll explore this more later\n",
    "space = [hp.uniform('x',-1,1),hp.uniform('y',-2,3)]"
   ]
  },
  {
   "cell_type": "code",
   "execution_count": 6,
   "metadata": {},
   "outputs": [
    {
     "name": "stdout",
     "output_type": "stream",
     "text": [
      "100%|██████████| 10/10 [00:00<00:00, 589.81it/s, best loss: -7.4442963945314915]\n",
      "{'x': -0.7148322406531755, 'y': 2.8205108627354605}\n"
     ]
    }
   ],
   "source": [
    "# calling the hyperopt function\n",
    "best = fmin(function,space,algo=tpe.suggest,max_evals=10)\n",
    "\n",
    "# fmin function’s first argument is the objective function\n",
    "# second argument is the hyperopt space\n",
    "# third the algorithm that is to be used for optimization\n",
    "# maximum number of evaluations\n",
    "# fmin returns a dictionary giving best hyper-parameter\n",
    "\n",
    "print(best) "
   ]
  },
  {
   "cell_type": "code",
   "execution_count": 8,
   "metadata": {},
   "outputs": [
    {
     "name": "stdout",
     "output_type": "stream",
     "text": [
      "100%|██████████| 100/100 [00:00<00:00, 252.49it/s, best loss: -8.884345387918223]\n",
      "{'x': 0.2003662386275014, 'y': 2.987388829312307}\n"
     ]
    }
   ],
   "source": [
    "best = fmin(function,space,algo=tpe.suggest,max_evals=100)  # increased iterations to 100\n",
    "print(best)"
   ]
  },
  {
   "cell_type": "code",
   "execution_count": 11,
   "metadata": {},
   "outputs": [
    {
     "name": "stdout",
     "output_type": "stream",
     "text": [
      "100%|██████████| 500/500 [00:02<00:00, 168.82it/s, best loss: -8.991167391475722]\n",
      "{'x': -0.06199249544889427, 'y': 2.999168294872381}\n"
     ]
    }
   ],
   "source": [
    "best = fmin(function,space,algo=tpe.suggest,max_evals=500)  # increased iterations to 500 \n",
    "print(best)"
   ]
  },
  {
   "cell_type": "markdown",
   "metadata": {},
   "source": [
    "* Solution converged fairly well"
   ]
  },
  {
   "cell_type": "code",
   "execution_count": 27,
   "metadata": {},
   "outputs": [
    {
     "name": "stdout",
     "output_type": "stream",
     "text": [
      "100%|██████████| 500/500 [00:02<00:00, 166.88it/s, best loss: -8.997192047495794]\n",
      "best: {'x': -0.03813300655692219, 'y': 2.9997743537947756}\n",
      "trials:\n"
     ]
    }
   ],
   "source": []
  },
  {
   "cell_type": "code",
   "execution_count": 128,
   "metadata": {},
   "outputs": [],
   "source": [
    "from sklearn import datasets\n",
    "from sklearn.svm import SVC\n",
    "from sklearn.neighbors import KNeighborsClassifier\n",
    "from sklearn.model_selection import train_test_split\n",
    "from hyperopt import tpe, hp, fmin\n",
    "from sklearn.metrics import mean_squared_error\n",
    "from sklearn.model_selection import StratifiedKFold\n",
    "\n",
    "iris = datasets.load_iris()\n",
    "\n",
    "x = iris.data\n",
    "y = iris.target\n",
    "\n",
    "x_train,x_test,y_train,y_test = train_test_split(x,y,test_size=0.2,random_state = 101)"
   ]
  },
  {
   "cell_type": "code",
   "execution_count": 14,
   "metadata": {},
   "outputs": [],
   "source": [
    "def objective_func(args):\n",
    "\n",
    "    if args['model']==KNeighborsClassifier:\n",
    "        n_neighbors = args['param']['n_neighbors']\n",
    "        algorithm = args['param']['algorithm']\n",
    "        leaf_size = args['param']['leaf_size']\n",
    "        metric = args['param']['metric']\n",
    "        clf = KNeighborsClassifier(n_neighbors=n_neighbors,\n",
    "                               algorithm=algorithm,\n",
    "                               leaf_size=leaf_size,\n",
    "                               metric=metric,\n",
    "                               )\n",
    "    elif args['model']==SVC:\n",
    "        C = args['param']['C']\n",
    "        kernel = args['param']['kernel']\n",
    "        degree = args['param']['degree']\n",
    "        gamma = args['param']['gamma']\n",
    "        clf = SVC(C=C, kernel=kernel, degree=degree,gamma=gamma)\n",
    "    \n",
    "\n",
    "    clf.fit(x_train,y_train)\n",
    "\n",
    "    y_pred_train = clf.predict(x_train)\n",
    "    loss = mean_squared_error(y_train,y_pred_train)\n",
    "    print(\"Test Score:\",clf.score(x_test,y_test))\n",
    "    print(\"Train Score:\",clf.score(x_train,y_train))\n",
    "    print(\"\\n=================\")\n",
    "    return loss"
   ]
  },
  {
   "cell_type": "code",
   "execution_count": 30,
   "metadata": {},
   "outputs": [],
   "source": [
    "space_scikit = hp.choice('classifier',[\n",
    "                                        {'model': KNeighborsClassifier,\n",
    "                                         'param': {'n_neighbors': hp.choice('n_neighbors',range(3,11)),\n",
    "                                                   'algorithm': hp.choice('algorithm',['ball_tree','kd_tree']),\n",
    "                                                   'leaf_size': hp.choice('leaf_size',range(1,50)),\n",
    "                                                   'metric': hp.choice('metric', [\"euclidean\",\"manhattan\",\"chebyshev\",\"minkowski\"])\n",
    "                                                  }\n",
    "                                        },\n",
    "                                        {'model': SVC,\n",
    "                                         'param':{'C':hp.lognormal('C',0,1),\n",
    "                                                  'kernel':hp.choice('kernel',['rbf','poly','rbf','sigmoid']),\n",
    "                                                  'degree':hp.choice('degree',range(1,15)),\n",
    "                                                  'gamma':hp.uniform('gamma',0.001,10000)\n",
    "                                                 }\n",
    "                                        }\n",
    "                                       ]\n",
    "                        )\n",
    "\n"
   ]
  },
  {
   "cell_type": "markdown",
   "metadata": {},
   "source": [
    "### Using Trials"
   ]
  },
  {
   "cell_type": "code",
   "execution_count": 125,
   "metadata": {},
   "outputs": [],
   "source": [
    "# You can use the above, but it will be hard to plot 2 types of models. \n",
    "# Limiting to 1 type for now only to plot the results later\n",
    "\n",
    "space_scikit = hp.choice('SVC',[\n",
    "                                {'C':hp.lognormal('C',0,1),\n",
    "                                'kernel':hp.choice('kernel',['rbf','poly','rbf','sigmoid']),\n",
    "                                'degree':hp.choice('degree',range(1,15)),\n",
    "                                'gamma':hp.uniform('gamma',0.001,10000)\n",
    "                                }\n",
    "                               ]\n",
    "                        )"
   ]
  },
  {
   "cell_type": "code",
   "execution_count": 129,
   "metadata": {},
   "outputs": [],
   "source": [
    "from sklearn.model_selection import cross_val_score\n",
    "\n",
    "# create cross validation iterator\n",
    "cv = StratifiedKFold(n_splits=3) # (used in some methods only, others use x_train, y_train, etc.)\n",
    "\n",
    "def hyperopt_train_test(params):\n",
    "    clf = SVC(**params)\n",
    "    return cross_val_score(clf, x, y, cv=cv).mean()\n",
    "\n",
    "def f(params):\n",
    "    acc = hyperopt_train_test(params)\n",
    "    return {'loss': -acc, 'status': STATUS_OK}"
   ]
  },
  {
   "cell_type": "code",
   "execution_count": 130,
   "metadata": {},
   "outputs": [
    {
     "name": "stdout",
     "output_type": "stream",
     "text": [
      "100%|██████████| 100/100 [00:06<00:00, 15.90it/s, best loss: -0.9738562091503268]\n",
      "best: {'C': 6.734361103508564, 'SVC': 0, 'degree': 0, 'gamma': 1666.6930936294993, 'kernel': 1}\n",
      "trials:\n",
      "{'state': 2, 'tid': 0, 'spec': None, 'result': {'loss': -0.6683006535947712, 'status': 'ok'}, 'misc': {'tid': 0, 'cmd': ('domain_attachment', 'FMinIter_Domain'), 'workdir': None, 'idxs': {'C': [0], 'SVC': [0], 'degree': [0], 'gamma': [0], 'kernel': [0]}, 'vals': {'C': [0.7611713536493369], 'SVC': [0], 'degree': [11], 'gamma': [9297.9403488424], 'kernel': [2]}}, 'exp_key': None, 'owner': None, 'version': 0, 'book_time': datetime.datetime(2019, 6, 20, 23, 13, 49, 843000), 'refresh_time': datetime.datetime(2019, 6, 20, 23, 13, 49, 853000)}\n",
      "{'state': 2, 'tid': 1, 'spec': None, 'result': {'loss': -0.4591503267973856, 'status': 'ok'}, 'misc': {'tid': 1, 'cmd': ('domain_attachment', 'FMinIter_Domain'), 'workdir': None, 'idxs': {'C': [1], 'SVC': [1], 'degree': [1], 'gamma': [1], 'kernel': [1]}, 'vals': {'C': [5.933555900388424], 'SVC': [0], 'degree': [11], 'gamma': [7607.720291495354], 'kernel': [2]}}, 'exp_key': None, 'owner': None, 'version': 0, 'book_time': datetime.datetime(2019, 6, 20, 23, 13, 49, 857000), 'refresh_time': datetime.datetime(2019, 6, 20, 23, 13, 49, 868000)}\n"
     ]
    }
   ],
   "source": [
    "trials = Trials()\n",
    "best_classifier = fmin(f,space_scikit, algo=tpe.suggest,max_evals=100, trials=trials)\n",
    "\n",
    "print ('best:', best_classifier)\n",
    "\n",
    "print ('trials:')\n",
    "for trial in trials.trials[:2]:\n",
    "    print (trial)"
   ]
  },
  {
   "cell_type": "code",
   "execution_count": 94,
   "metadata": {},
   "outputs": [
    {
     "data": {
      "text/plain": [
       "[{'state': 2,\n",
       "  'tid': 0,\n",
       "  'spec': None,\n",
       "  'result': {'loss': -0.35836385836385837, 'status': 'ok'},\n",
       "  'misc': {'tid': 0,\n",
       "   'cmd': ('domain_attachment', 'FMinIter_Domain'),\n",
       "   'workdir': None,\n",
       "   'idxs': {'C': [0], 'SVC': [0], 'degree': [0], 'gamma': [0], 'kernel': [0]},\n",
       "   'vals': {'C': [1.5715926731374568],\n",
       "    'SVC': [0],\n",
       "    'degree': [8],\n",
       "    'gamma': [8201.959820188407],\n",
       "    'kernel': [1]}},\n",
       "  'exp_key': None,\n",
       "  'owner': None,\n",
       "  'version': 0,\n",
       "  'book_time': datetime.datetime(2019, 6, 20, 22, 50, 32, 956000),\n",
       "  'refresh_time': datetime.datetime(2019, 6, 20, 22, 50, 32, 988000)},\n",
       " {'state': 2,\n",
       "  'tid': 1,\n",
       "  'spec': None,\n",
       "  'result': {'loss': -0.35836385836385837, 'status': 'ok'},\n",
       "  'misc': {'tid': 1,\n",
       "   'cmd': ('domain_attachment', 'FMinIter_Domain'),\n",
       "   'workdir': None,\n",
       "   'idxs': {'C': [1], 'SVC': [1], 'degree': [1], 'gamma': [1], 'kernel': [1]},\n",
       "   'vals': {'C': [2.2966213698535225],\n",
       "    'SVC': [0],\n",
       "    'degree': [10],\n",
       "    'gamma': [557.2867074828063],\n",
       "    'kernel': [1]}},\n",
       "  'exp_key': None,\n",
       "  'owner': None,\n",
       "  'version': 0,\n",
       "  'book_time': datetime.datetime(2019, 6, 20, 22, 50, 32, 992000),\n",
       "  'refresh_time': datetime.datetime(2019, 6, 20, 22, 50, 33, 4000)}]"
      ]
     },
     "execution_count": 94,
     "metadata": {},
     "output_type": "execute_result"
    }
   ],
   "source": [
    "trials.trials[0:2]"
   ]
  },
  {
   "cell_type": "code",
   "execution_count": 95,
   "metadata": {},
   "outputs": [],
   "source": [
    "import matplotlib.pyplot as plt"
   ]
  },
  {
   "cell_type": "code",
   "execution_count": 145,
   "metadata": {},
   "outputs": [],
   "source": [
    "xs = [t['tid'] for t in trials.trials]\n",
    "ys = [t['misc']['vals']['C'] for t in trials.trials]"
   ]
  },
  {
   "cell_type": "code",
   "execution_count": 149,
   "metadata": {},
   "outputs": [
    {
     "name": "stdout",
     "output_type": "stream",
     "text": [
      "<class 'list'>\n",
      "100\n",
      "0\n",
      "99\n"
     ]
    }
   ],
   "source": [
    "print (type(xs))\n",
    "print (len(ys))\n",
    "print (min(xs))\n",
    "print (max(xs))"
   ]
  },
  {
   "cell_type": "code",
   "execution_count": 150,
   "metadata": {},
   "outputs": [
    {
     "name": "stdout",
     "output_type": "stream",
     "text": [
      "<class 'list'>\n",
      "100\n",
      "[0.1328788966807873]\n",
      "[608.8902108360152]\n"
     ]
    }
   ],
   "source": [
    "print (type(ys))\n",
    "print (len(ys))\n",
    "print (min(ys))\n",
    "print (max(ys))"
   ]
  },
  {
   "cell_type": "code",
   "execution_count": 151,
   "metadata": {},
   "outputs": [
    {
     "data": {
      "text/plain": [
       "Text(0, 0.5, '$C$')"
      ]
     },
     "execution_count": 151,
     "metadata": {},
     "output_type": "execute_result"
    },
    {
     "data": {
      "image/png": "[encoded data removed]",
      "text/plain": [
       "<Figure size 432x288 with 1 Axes>"
      ]
     },
     "metadata": {
      "needs_background": "light"
     },
     "output_type": "display_data"
    }
   ],
   "source": [
    "# Checking how the C value gets picked over time \n",
    "f, ax = plt.subplots(1)\n",
    "ax.set_xlim(xs[0]-10, xs[-1]+10)\n",
    "ax.scatter(xs, ys, s=20, linewidth=0.01, alpha=0.75)\n",
    "ax.set_title('$C$ $vs$ $t$ ', fontsize=18)\n",
    "ax.set_xlabel('$t$', fontsize=16)\n",
    "ax.set_ylabel('$C$', fontsize=16)"
   ]
  },
  {
   "cell_type": "code",
   "execution_count": 154,
   "metadata": {},
   "outputs": [
    {
     "data": {
      "text/plain": [
       "Text(0, 0.5, 'Cross validation accuracy')"
      ]
     },
     "execution_count": 154,
     "metadata": {},
     "output_type": "execute_result"
    },
    {
     "data": {
      "image/png": "[encoded data removed]",
      "text/plain": [
       "<Figure size 1080x288 with 3 Axes>"
      ]
     },
     "metadata": {
      "needs_background": "light"
     },
     "output_type": "display_data"
    }
   ],
   "source": [
    "# Looking at loss functions\n",
    "f, axes = plt.subplots(1,3, figsize=(15,4))\n",
    "\n",
    "ys = [-t['result']['loss'] for t in trials.trials]\n",
    "\n",
    "xs = [t['misc']['vals']['C'] for t in trials.trials]\n",
    "axes[0].scatter(xs, ys, s=20, linewidth=0.01, alpha=0.5)\n",
    "axes[0].set_title('Iris Dataset - SVM', fontsize=18)\n",
    "axes[0].set_xlabel('C', fontsize=12)\n",
    "axes[0].set_ylabel('Cross validation accuracy', fontsize=12)\n",
    "\n",
    "xs = [t['misc']['vals']['gamma'] for t in trials.trials]\n",
    "axes[1].scatter(xs, ys, s=20, linewidth=0.01, alpha=0.5)\n",
    "axes[1].set_title('Iris Dataset - SVM', fontsize=18)\n",
    "axes[1].set_xlabel('gamma', fontsize=12)\n",
    "axes[1].set_ylabel('Cross validation accuracy', fontsize=12)\n",
    "\n",
    "xs = [t['misc']['vals']['degree'] for t in trials.trials]\n",
    "axes[2].scatter(xs, ys, s=20, linewidth=0.01, alpha=0.5)\n",
    "axes[2].set_title('Iris Dataset - SVM', fontsize=18)\n",
    "axes[2].set_xlabel('Degree', fontsize=12)\n",
    "axes[2].set_ylabel('Cross validation accuracy', fontsize=12)"
   ]
  },
  {
   "cell_type": "code",
   "execution_count": 153,
   "metadata": {},
   "outputs": [],
   "source": [
    "# We can not predict which parameer along will give the best accuracy. It is probably a combinaton of the parameters that leads to the best results."
   ]
  },
  {
   "cell_type": "markdown",
   "metadata": {},
   "source": [
    "### Using MongoTrials to parallelize (TBD)"
   ]
  },
  {
   "cell_type": "code",
   "execution_count": 19,
   "metadata": {},
   "outputs": [],
   "source": [
    "import math\n",
    "from hyperopt import fmin, tpe, hp\n",
    "from hyperopt.mongoexp import MongoTrials"
   ]
  },
  {
   "cell_type": "code",
   "execution_count": null,
   "metadata": {},
   "outputs": [],
   "source": [
    "# first argument is the name of the local server, \n",
    "# edit the number of the port as per your server\n",
    "\n",
    "# second argument is exp_key which is the key given to a \n",
    "# certain trail in database, if you want to compile \n",
    "# the program again on the same sever in the same database, \n",
    "# do remember to change the name of exp_key\n",
    "\n",
    "trials = MongoTrials('mongo://localhost/27017/foo_db/jobs',\n",
    "                     exp_key='exp1')"
   ]
  },
  {
   "cell_type": "code",
   "execution_count": null,
   "metadata": {},
   "outputs": [],
   "source": [
    "best = fmin(math.sin, \n",
    "            hp.uniform('x', -2, 2),trials=trials,\n",
    "            algo=tpe.suggest, max_evals=10)"
   ]
  }
 ],
 "metadata": {
  "kernelspec": {
   "display_name": "Python 3",
   "language": "python",
   "name": "python3"
  },
  "language_info": {
   "codemirror_mode": {
    "name": "ipython",
    "version": 3
   },
   "file_extension": ".py",
   "mimetype": "text/x-python",
   "name": "python",
   "nbconvert_exporter": "python",
   "pygments_lexer": "ipython3",
   "version": "3.6.8"
  }
 },
 "nbformat": 4,
 "nbformat_minor": 2
}
