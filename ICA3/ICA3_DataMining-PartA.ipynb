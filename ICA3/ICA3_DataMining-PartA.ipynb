{
 "cells": [
  {
   "cell_type": "code",
   "execution_count": 1,
   "metadata": {
    "collapsed": false
   },
   "outputs": [
    {
     "data": {
      "text/html": [
       "<link href='https://fonts.googleapis.com/css?family=Passion+One' rel='stylesheet' type='text/css'><style>div.attn { font-family: 'Helvetica Neue'; font-size: 30px; line-height: 40px; color: #FFFFFF; text-align: center; margin: 30px 0; border-width: 10px 0; border-style: solid; border-color: #5AAAAA; padding: 30px 0; background-color: #DDDDFF; }hr { border: 0; background-color: #ffffff; border-top: 1px solid black; }hr.major { border-top: 10px solid #5AAA5A; }hr.minor { border: none; background-color: #ffffff; border-top: 5px dotted #CC3333; }div.bubble { width: 65%; padding: 20px; background: #DDDDDD; border-radius: 15px; margin: 0 auto; font-style: italic; color: #f00; }em { color: #AAA; }div.c1{visibility:hidden;margin:0;height:0;}div.note{color:red;}</style>"
      ],
      "text/plain": [
       "<IPython.core.display.HTML object>"
      ]
     },
     "execution_count": 1,
     "metadata": {},
     "output_type": "execute_result"
    }
   ],
   "source": [
    "#  Enable HTML/CSS \n",
    "from IPython.core.display import HTML\n",
    "HTML(\"<link href='https://fonts.googleapis.com/css?family=Passion+One' rel='stylesheet' type='text/css'><style>div.attn { font-family: 'Helvetica Neue'; font-size: 30px; line-height: 40px; color: #FFFFFF; text-align: center; margin: 30px 0; border-width: 10px 0; border-style: solid; border-color: #5AAAAA; padding: 30px 0; background-color: #DDDDFF; }hr { border: 0; background-color: #ffffff; border-top: 1px solid black; }hr.major { border-top: 10px solid #5AAA5A; }hr.minor { border: none; background-color: #ffffff; border-top: 5px dotted #CC3333; }div.bubble { width: 65%; padding: 20px; background: #DDDDDD; border-radius: 15px; margin: 0 auto; font-style: italic; color: #f00; }em { color: #AAA; }div.c1{visibility:hidden;margin:0;height:0;}div.note{color:red;}</style>\")"
   ]
  },
  {
   "cell_type": "markdown",
   "metadata": {},
   "source": [
    "___\n",
    "Enter Team Member Names here (double click to edit):\n",
    "\n",
    "- Name 1:\n",
    "- Name 2:\n",
    "- Name 3:\n",
    "\n",
    "________\n",
    "\n",
    "# In Class Assignment Three\n",
    "In the following assignment you will be asked to fill in python code and derivations for a number of different problems. Please read all instructions carefully and turn in the rendered notebook (or HTML of the rendered notebook)  before the end of class.\n",
    "\n",
    "<a id=\"top\"></a>\n",
    "## Contents\n",
    "* <a href=\"#Loading\">Loading the Data</a>\n",
    "* <a href=\"#distance\">Measuring Distances</a>\n",
    "\n",
    "** Available after class begins: **\n",
    "* <a href=\"#KNN\">K-Nearest Neighbors</a>\n",
    "* <a href=\"#naive\">Naive Bayes</a>\n",
    "\n",
    "________________________________________________________________________________________________________\n",
    "<a id=\"Loading\"></a>\n",
    "<a href=\"#top\">Back to Top</a>\n",
    "## Downloading the Document Data\n",
    "Please run the following code to read in the \"20 newsgroups\" dataset from sklearn's data loading module."
   ]
  },
  {
   "cell_type": "code",
   "execution_count": 2,
   "metadata": {
    "collapsed": false
   },
   "outputs": [
    {
     "name": "stderr",
     "output_type": "stream",
     "text": [
      "Downloading 20news dataset. This may take a few minutes.\n",
      "Downloading dataset from https://ndownloader.figshare.com/files/5975967 (14 MB)\n"
     ]
    },
    {
     "name": "stdout",
     "output_type": "stream",
     "text": [
      "features shape: (11314, 130107)\n",
      "target shape: (11314,)\n",
      "range of target: 0 19\n",
      "Data type is <class 'scipy.sparse.csr.csr_matrix'> 0.1214353154362896 % of the data is non-zero\n"
     ]
    }
   ],
   "source": [
    "from sklearn.datasets import fetch_20newsgroups_vectorized\n",
    "import numpy as np\n",
    "#from __future__ import print_function\n",
    "\n",
    "# this takes about 30 seconds to compute, read the next section while this downloads\n",
    "ds = fetch_20newsgroups_vectorized(subset='train')\n",
    "\n",
    "# this holds the continuous feature data (which is tfidf)\n",
    "print('features shape:', ds.data.shape) # there are ~11000 instances and ~130k features per instance\n",
    "print('target shape:', ds.target.shape) \n",
    "print('range of target:', np.min(ds.target),np.max(ds.target))\n",
    "print('Data type is', type(ds.data), float(ds.data.nnz)/(ds.data.shape[0]*ds.data.shape[1])*100, '% of the data is non-zero')"
   ]
  },
  {
   "cell_type": "markdown",
   "metadata": {},
   "source": [
    "## Understanding the Dataset\n",
    "Look at the description for the 20 newsgroups dataset at http://qwone.com/~jason/20Newsgroups/. You have just downloaded the \"vectorized\" version of the dataset, which means all the words inside the articles have gone through a transformation that binned them into 130 thousand features related to the words in them.  \n",
    "\n",
    "**Question Set 1**:\n",
    "- How many instances are in the dataset? \n",
    "- What does each instance represent? \n",
    "- How many classes are in the dataset and what does each class represent?\n",
    "- Would you expect a classifier trained on this data would generalize to documents written in the past week? Why or why not?\n",
    "- Is the data represented as a sparse or dense matrix?"
   ]
  },
  {
   "cell_type": "markdown",
   "metadata": {},
   "source": [
    "___\n",
    "Enter your answer here:\n",
    "\n",
    "* There are 11314 instances in the dataset\n",
    "* Each instance represents a newgroup article\n",
    "* There are 20 classes ranging form 0 to 19. Each class represents a type of article - rangin from topics form science, receration, computers, politics, religion, etc.\n",
    "* It depends on the population of articles that we are looking at in the past week. If they belong to the same category, then it might work, but if they belong to different categoriers that were not included in the training data, then the results would be misleading.\n",
    "* This data is represented as a sparse matrix since < 0.125% of the array contains any non-sero information."
   ]
  },
  {
   "cell_type": "markdown",
   "metadata": {},
   "source": [
    "___\n",
    "<a id=\"distance\"></a>\n",
    "<a href=\"#top\">Back to Top</a>\n",
    "## Measures of Distance\n",
    "In the following block of code, we isolate three instances from the dataset. The instance \"`a`\" is from the group *computer graphics*, \"`b`\" is from from the group *recreation autos*, and \"`c`\" is from group *recreation motorcycle*. **Exercise for part 2**: Calculate the: \n",
    "- (1) Euclidean distance\n",
    "- (2) Cosine distance \n",
    "- (3) Jaccard similarity \n",
    "\n",
    "between each pair of instances using the imported functions below. Remember that the Jaccard similarity is only for binary valued vectors, so convert vectors to binary using a threshold. \n",
    "\n",
    "**Question for part 2**: Which distance seems more appropriate to use for this data? **Why**?"
   ]
  },
  {
   "cell_type": "code",
   "execution_count": 28,
   "metadata": {
    "collapsed": false
   },
   "outputs": [
    {
     "name": "stdout",
     "output_type": "stream",
     "text": [
      "Instance A is from class comp.graphics\n",
      "Instance B is from class rec.autos\n",
      "Instance C is from class rec.motorcycles\n",
      "\n",
      "\n",
      "Euclidean Distance\n",
      " ab: 1.0985184671870858 ac: 1.1891405425398234 bc: 0.9177794226661624\n",
      "Cosine Distance\n",
      " ab: 0.6033714113755322 ac: 0.7070276149559529 bc: 0.4211595343347173\n",
      "Jaccard Dissimilarity (vectors should be boolean values)\n",
      " ab: 0.8821138211382114 ac: 0.8754716981132076 bc: 0.9087947882736156\n",
      "\n",
      "\n",
      "The most appropriate distance is...\n",
      "Cosine\n",
      "\n",
      "Eucledian is not appropriate since the data is so sparse that most features will be similar to one another between instances (most likely 0's)\n",
      "\n",
      "Jaccard may be appropriate to some extent since we dont really care about 0's, we care about the fields that have data. But since we have artificially set a threshold to discretize, it may introduce some issues. More importantly though it is just looking at what fields are similar between the vectors. 2 vectors may have the same number of similar fields but the actual fields that are similar may be different fron one another. In such a case, Jaccard distances may be close to one another even though the actual vectors may not have any relationship to each other. This can likely be seen for the jaccard distance ab and bc - no relationship between these but distances are similar in value\n",
      "\n",
      "Cosine mat be appropriate since it is looking at angles between vectors. Similar instance will be pointing in the same direction and hence this might be the best metric. Also, the data is sparse and cosine distances work well on sparse data\n"
     ]
    }
   ],
   "source": [
    "from scipy.spatial.distance import cosine\n",
    "from scipy.spatial.distance import euclidean\n",
    "from scipy.spatial.distance import jaccard\n",
    "import numpy as np\n",
    "\n",
    "# get first instance (comp)\n",
    "idx = 550\n",
    "a = ds.data[idx].todense()\n",
    "a_class = ds.target_names[ds.target[idx]]\n",
    "print('Instance A is from class', a_class)\n",
    "\n",
    "# get second instance (autos)\n",
    "idx = 4000\n",
    "b = ds.data[idx].todense()\n",
    "b_class = ds.target_names[ds.target[idx]]\n",
    "print('Instance B is from class', b_class)\n",
    "\n",
    "# get third instance (motorcycle)\n",
    "idx = 7000\n",
    "c = ds.data[idx].todense()\n",
    "c_class = ds.target_names[ds.target[idx]]\n",
    "print('Instance C is from class', c_class)\n",
    "\n",
    "# Enter distance comparison below for each pair of vectors:\n",
    "p = 'Placeholder'\n",
    "\n",
    "euc_ab = euclidean(a,b)\n",
    "euc_ac = euclidean(a,c)\n",
    "euc_bc = euclidean(b,c)\n",
    "\n",
    "cos_ab = cosine(a,b)\n",
    "cos_ac = cosine(a,c)\n",
    "cos_bc = cosine(b,c)\n",
    "\n",
    "# For Jaccard\n",
    "# Vector must be boolean\n",
    "a_discrete = a \n",
    "a_discrete[a_discrete > 0] = 1\n",
    "#print(a_discrete.sum())\n",
    "\n",
    "b_discrete = b \n",
    "b_discrete[b_discrete > 0] = 1\n",
    "#print(b_discrete.sum())\n",
    "\n",
    "c_discrete = c \n",
    "c_discrete[c_discrete > 0] = 1\n",
    "#print(c_discrete.sum())\n",
    "\n",
    "jac_ab = jaccard(a_discrete,b_discrete)\n",
    "jac_ac = jaccard(a_discrete,c_discrete)\n",
    "jac_bc = jaccard(b_discrete,c_discrete)\n",
    "\n",
    "print('\\n\\nEuclidean Distance\\n ab:', euc_ab, 'ac:', euc_ac, 'bc:',euc_bc)\n",
    "print('Cosine Distance\\n ab:', cos_ab, 'ac:', cos_ac, 'bc:', cos_bc)\n",
    "print('Jaccard Dissimilarity (vectors should be boolean values)\\n ab:', jac_ab, 'ac:', jac_ac, 'bc:', jac_bc)\n",
    "\n",
    "print('\\n\\nThe most appropriate distance is...')\n",
    "print(\"Cosine\")\n",
    "\n",
    "print (\"\\nEucledian is not appropriate since the data is so sparse that most features will be similar to one another between instances (most likely 0's)\")\n",
    "print (\"\\nJaccard may be appropriate to some extent since we dont really care about 0's, we care about the fields that have data. \\\n",
    "But since we have artificially set a threshold to discretize, it may introduce some issues. \\\n",
    "More importantly though it is just looking at what fields are similar between the vectors. \\\n",
    "2 vectors may have the same number of similar fields but the actual fields that are similar may be different fron one another. \\\n",
    "In such a case, Jaccard distances may be close to one another even though the actual vectors may not have any relationship to each other. \\\n",
    "This can likely be seen for the jaccard distance ab and bc - no relationship between these but distances are similar in value\")\n",
    "print (\"\\nCosine mat be appropriate since it is looking at angles between vectors. Similar instance will be pointing in the same direction and hence this might be the best metric. \\\n",
    "Also, the data is sparse and cosine distances work well on sparse data\")"
   ]
  },
  {
   "cell_type": "code",
   "execution_count": null,
   "metadata": {
    "collapsed": true
   },
   "outputs": [],
   "source": []
  },
  {
   "cell_type": "code",
   "execution_count": null,
   "metadata": {},
   "outputs": [],
   "source": []
  }
 ],
 "metadata": {
  "anaconda-cloud": {},
  "kernelspec": {
   "display_name": "Python 3",
   "language": "python",
   "name": "python3"
  },
  "language_info": {
   "codemirror_mode": {
    "name": "ipython",
    "version": 3
   },
   "file_extension": ".py",
   "mimetype": "text/x-python",
   "name": "python",
   "nbconvert_exporter": "python",
   "pygments_lexer": "ipython3",
   "version": "3.6.8"
  }
 },
 "nbformat": 4,
 "nbformat_minor": 2
}
