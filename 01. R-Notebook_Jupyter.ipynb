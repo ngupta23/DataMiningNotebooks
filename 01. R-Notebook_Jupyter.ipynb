{
 "cells": [
  {
   "cell_type": "markdown",
   "metadata": {},
   "source": [
    "### Author: Nikhil Gupta\n",
    "Derived from Dr. Larson's notebook\n",
    "\n",
    "---------------"
   ]
  },
  {
   "cell_type": "markdown",
   "metadata": {},
   "source": [
    "### Installing the R Kernel for use in iPython Notebook\n",
    "###### Using Anaconda, it is relatively simple to install the R kernel for iPython Notebook.  This is done using the following command from any console window:\n",
    "\n",
    "conda install -c r r-essentials\n",
    "\n",
    "This actually uses anaconda's r channel and searches for the package r-essentials to install.  The r-essentials package includes the IRKernel and over 80 of the most used R packages for data science, including dplyr, shiny, ggplot2, tidyr,caret, nnet, and many others!    \n",
    "\n",
    "###### To avoid naming conflicts, every R package avaiable  within Anaconda's r channel uses the same name as its corresponding R library, except prefixed with \"r-\".  For example, if you would normally access a package in R using the following library command:\n",
    "\n",
    "library(SparkR)\n",
    "\n",
    "###### You would use the following command to install this package using conda: \n",
    "\n",
    "conda install -c r r-SparkR\n",
    "\n",
    "You will see some examples of this later on!"
   ]
  },
  {
   "cell_type": "code",
   "execution_count": 2,
   "metadata": {},
   "outputs": [
    {
     "name": "stdout",
     "output_type": "stream",
     "text": [
      "'data.frame':\t920 obs. of  15 variables:\n",
      " $ site             : Factor w/ 4 levels \"cleve\",\"hungary\",..: 1 1 1 1 1 1 1 1 1 1 ...\n",
      " $ age              : int  63 67 67 37 41 56 62 57 63 53 ...\n",
      " $ is_male          : int  1 1 1 1 0 1 0 0 1 1 ...\n",
      " $ chest_pain       : int  1 4 4 3 2 2 4 4 4 4 ...\n",
      " $ rest_blood_press : Factor w/ 62 levels \"?\",\"0\",\"100\",..: 36 45 18 27 27 18 33 18 27 33 ...\n",
      " $ cholesterol      : Factor w/ 218 levels \"?\",\"0\",\"100\",..: 87 140 83 104 58 90 122 193 108 57 ...\n",
      " $ high_blood_sugar : Factor w/ 3 levels \"?\",\"0\",\"1\": 3 2 2 2 2 2 2 2 2 3 ...\n",
      " $ rest_ecg         : Factor w/ 4 levels \"?\",\"0\",\"1\",\"2\": 4 4 4 2 4 2 4 2 4 4 ...\n",
      " $ max_heart_rate   : Factor w/ 120 levels \"?\",\"100\",\"102\",..: 51 9 30 87 73 79 61 64 48 56 ...\n",
      " $ exer_angina      : Factor w/ 3 levels \"?\",\"0\",\"1\": 2 3 3 2 2 2 2 3 2 3 ...\n",
      " $ ST_depression    : Factor w/ 54 levels \"-0.1\",\"-0.5\",..: 35 27 38 45 26 20 46 18 26 42 ...\n",
      " $ Peak_ST_seg      : Factor w/ 4 levels \"?\",\"1\",\"2\",\"3\": 4 3 3 4 2 2 4 2 3 4 ...\n",
      " $ major_vessels    : Factor w/ 5 levels \"?\",\"0\",\"1\",\"2\",..: 2 5 4 2 2 2 4 2 3 2 ...\n",
      " $ thal             : Factor w/ 4 levels \"?\",\"3\",\"6\",\"7\": 3 2 4 2 2 2 2 2 4 4 ...\n",
      " $ has_heart_disease: int  0 2 1 0 0 0 3 0 2 1 ...\n"
     ]
    }
   ],
   "source": [
    "inputData <- read.csv(\"data/heart_disease.csv\",sep = \",\", header = T)\n",
    "str(inputData)"
   ]
  },
  {
   "cell_type": "code",
   "execution_count": null,
   "metadata": {},
   "outputs": [],
   "source": []
  }
 ],
 "metadata": {
  "kernelspec": {
   "display_name": "R",
   "language": "R",
   "name": "ir"
  },
  "language_info": {
   "codemirror_mode": "r",
   "file_extension": ".r",
   "mimetype": "text/x-r-source",
   "name": "R",
   "pygments_lexer": "r",
   "version": "3.5.1"
  }
 },
 "nbformat": 4,
 "nbformat_minor": 2
}
